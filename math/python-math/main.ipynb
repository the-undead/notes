{
 "cells": [
  {
   "cell_type": "markdown",
   "metadata": {},
   "source": [
    "# Mathe\n",
    "warning! denglish ahead\n",
    "\n",
    "this is a work in progress!"
   ]
  },
  {
   "cell_type": "code",
   "execution_count": 1,
   "metadata": {},
   "outputs": [],
   "source": [
    "import numpy as np\n",
    "import random"
   ]
  },
  {
   "cell_type": "markdown",
   "metadata": {},
   "source": [
    "TODO:\n",
    "\n",
    "- linear algebra\n",
    "    - Skalarprodukt\n",
    "        - Geometrische Interpretation ausarbeiten\n",
    "\n",
    "- funktionen darstellen und manipulieren\n",
    "\n",
    "- integrieren\n",
    "\n",
    "- differenzieren\n",
    "\n",
    "- approximating with taylor series\n",
    "\n",
    "- kmeans clustering\n",
    "\n",
    "- fitting a linear function on data points"
   ]
  },
  {
   "cell_type": "markdown",
   "metadata": {},
   "source": [
    "## Skalarprodukt\n",
    "Formel für n-dimensionalen Raum:\n",
    "$$\n",
    "\n",
    "\\vec{a} \\cdot \\vec{b} = \\sum_{i=1}^n a_i b_i, \\quad \\text{wobei } \\vec{a} = (a_1, a_2, \\dots, a_n) \\text{ und } \\vec{b} = (b_1, b_2, \\dots, b_n).\n",
    "\n",
    "$$\n",
    "\n",
    "$$\n",
    "\n",
    "a_i \\text{ und } b_i \\text{ sind hierbei Komponenten der Vektoren }\n",
    "\n",
    "$$\n",
    "\n",
    "Geometrische Interpretation:\n",
    "$$\n",
    "\\mathbf{a} \\cdot \\mathbf{b} = \\|\\mathbf{a}\\| \\|\\mathbf{b}\\| \\cos\\theta\n",
    "$$"
   ]
  },
  {
   "cell_type": "code",
   "execution_count": 2,
   "metadata": {},
   "outputs": [
    {
     "data": {
      "text/plain": [
       "np.float64(250119.95569193998)"
      ]
     },
     "execution_count": 2,
     "metadata": {},
     "output_type": "execute_result"
    }
   ],
   "source": [
    "# um das Skalarprodukt zweier Vektoren in python zu berechnen\n",
    "\n",
    "n = 1000000\n",
    "a = [random.random() for _ in range(n)] # we are initialising like this to show that data can be converted to an np.array\n",
    "b = [random.random() for _ in range(n)] # we could of course just do 'a = np.random.random(n)\" \n",
    "a = np.array(a) # unsere davor definierten arrays müssen wir zu einem numpy array umwandeln.\n",
    "b = np.array(b) \n",
    "\n",
    "skalar = a @ b # or \"np.dot(a,b)\"\n",
    "\n",
    "skalar"
   ]
  },
  {
   "cell_type": "markdown",
   "metadata": {},
   "source": [
    "creating numpy arrays"
   ]
  },
  {
   "cell_type": "code",
   "execution_count": 3,
   "metadata": {},
   "outputs": [
    {
     "name": "stdout",
     "output_type": "stream",
     "text": [
      "Inhalt:  [[   4.      3.14   99.  ]\n",
      " [ 420.     69.   1337.  ]]\n",
      "Typ:  <class 'numpy.ndarray'>\n",
      "Element Typ:  float64\n"
     ]
    }
   ],
   "source": [
    "# make it 2d\n",
    "a = np.array([[4, 3.14, 99],[420,69,1337]])\n",
    "\n",
    "print(\"Inhalt: \",a)\n",
    "print(\"Typ: \", type(a))\n",
    "print(\"Element Typ: \", a.dtype)"
   ]
  },
  {
   "cell_type": "code",
   "execution_count": 4,
   "metadata": {},
   "outputs": [
    {
     "name": "stdout",
     "output_type": "stream",
     "text": [
      "Data Type: bool\n",
      "a:  [ True  True  True]\n"
     ]
    }
   ],
   "source": [
    "# you can also set the datatype like so:\n",
    "a = np.array([420691337420691337, 1337, 420], dtype = 'bool')\n",
    "print(\"Data Type:\", a.dtype)\n",
    "print(\"a: \",a)\n",
    "# Some Datatypes you can set it to: numpy.bool, numpy.int, numpy.float, numpy.complex"
   ]
  },
  {
   "cell_type": "code",
   "execution_count": 5,
   "metadata": {},
   "outputs": [
    {
     "name": "stdout",
     "output_type": "stream",
     "text": [
      "[  0  69 138 207 276 345 414]\n",
      "\n",
      "\n",
      "[[0. 0. 0. 0.]\n",
      " [0. 0. 0. 0.]\n",
      " [0. 0. 0. 0.]\n",
      " [0. 0. 0. 0.]]\n",
      "\n",
      "\n",
      "[[1. 1. 1. 1.]\n",
      " [1. 1. 1. 1.]\n",
      " [1. 1. 1. 1.]\n",
      " [1. 1. 1. 1.]]\n",
      "\n",
      "\n",
      "[[1. 0. 0. 0.]\n",
      " [0. 1. 0. 0.]\n",
      " [0. 0. 1. 0.]\n",
      " [0. 0. 0. 1.]]\n",
      "\n",
      "\n",
      "[1.   1.06 1.12 1.18 1.24 1.3  1.36 1.42 1.48 1.54 1.6  1.66 1.72 1.78\n",
      " 1.84 1.9  1.96 2.02 2.08 2.14]\n"
     ]
    }
   ],
   "source": [
    "# arange(start,stop,steps)\n",
    "a = np.arange(0,420,69)\n",
    "print(a)\n",
    "print(\"\\n\")\n",
    "\n",
    "# makes one filled with zero\n",
    "# zeros(shape)\n",
    "a = np.zeros((4,4))\n",
    "print(a)\n",
    "\n",
    "print(\"\\n\")\n",
    "\n",
    "# makes one filled with ones\n",
    "# ones(shape)\n",
    "a = np.ones((4,4))\n",
    "print(a)\n",
    "\n",
    "print(\"\\n\")\n",
    "\n",
    "# identity matrix: \n",
    "# eye(shape)\n",
    "a = np.eye(4)\n",
    "print(a)\n",
    "\n",
    "print(\"\\n\")\n",
    "\n",
    "\n",
    "# gleichverteilte Werte zwischen min und max\n",
    "# linspace(min,max,number of elements)\n",
    "a = np.linspace(1, 2.14, 20)\n",
    "print(a)\n",
    "\n"
   ]
  },
  {
   "cell_type": "code",
   "execution_count": 40,
   "metadata": {},
   "outputs": [
    {
     "name": "stdout",
     "output_type": "stream",
     "text": [
      "Addition (piecewise): [2 4 6]\n",
      "Element-wise Multiplication: [1 4 9]\n",
      "Dot Product (a1*b1 + a2*b2 + a3*b3): 14\n",
      "Scalar Addition: [6 7 8]\n",
      "Scalar Multiplication: [30 35 40]\n",
      "Scalar Exponentiation: [ 7776 16807 32768]\n"
     ]
    }
   ],
   "source": [
    "import numpy as np\n",
    "\n",
    "# Initialize arrays\n",
    "a = np.array([1, 2, 3])\n",
    "b = np.array([1, 2, 3])\n",
    "\n",
    "# Piecewise addition\n",
    "print(\"Addition (piecewise):\", a + b)\n",
    "\n",
    "# Element-wise multiplication\n",
    "print(\"Element-wise Multiplication:\", a * b)\n",
    "\n",
    "# Dot product\n",
    "print(\"Dot Product (a1*b1 + a2*b2 + a3*b3):\", a @ b)\n",
    "\n",
    "# Scalar addition\n",
    "a += 5\n",
    "print(\"Scalar Addition:\", a)\n",
    "\n",
    "# Scalar multiplication\n",
    "print(\"Scalar Multiplication:\", a * 5)\n",
    "\n",
    "# Scalar exponentiation\n",
    "print(\"Scalar Exponentiation:\", a ** 5)\n"
   ]
  },
  {
   "cell_type": "markdown",
   "metadata": {},
   "source": [
    "---"
   ]
  },
  {
   "cell_type": "markdown",
   "metadata": {},
   "source": [
    "## Markov Chains\n",
    "\n",
    "<blockquote>\n",
    " THESE ARE NOTES ON:\n",
    " \n",
    "  https://math.libretexts.org/Bookshelves/Applied_Mathematics/Applied_Finite_Mathematics_(Sekhon_and_Bloom)/10%3A_Markov_Chains/10.01%3A_Introduction_to_Markov_Chains \n",
    "\n",
    " Home Bookshelves Applied Mathematics Applied Finite Mathematics (Sekhon and Bloom) 10: Markov Chains 10.1: Introduction to Markov Chains \n",
    "\n",
    " 10.1: Introduction to Markov Chains\n",
    "\n",
    " CC BY 4.0\n",
    "\n",
    " https://creativecommons.org/licenses/by/4.0/\n",
    "\n",
    " Rupinder Sekhon and Roberta Bloom\n",
    "\n",
    " De Anza College\n",
    "</blockquote>\n",
    "\n",
    "Bike Share Program, 3 Stations: A, B, C\n",
    "\n",
    "- of the bikes borrowed from station A, 30% are returned to station A, 50% end up at station B, and 20% end up at station C.\n",
    "- of the bikes borrowed from station B, 10% end up at station A, 60% have been returned to station B, and 30% end up at station C\n",
    "- of the bikes borrowed from station C, 10% end up at station A, 10% end up at station B, and 80% are returned to station C.\n",
    "\n",
    "![Markov Chain](markov.png)\n",
    "\n",
    "Write as **Transition Matrix**:\n",
    "\n",
    "$\n",
    "T =\\begin{array}{rcl} &\\begin{array}{c}A\\ B\\ C\\end{array}\\\\ \\begin{matrix} A \\\\ B \\\\ C \\end{matrix}\\color{black}\\hspace{-1em} &\\begin{bmatrix}  0.3 & 0.5 & 0.2 \\\\ 0.1 & 0.6 & 0.3 \\\\ 0.1 & 0.1 & 0.8 \\end{bmatrix} \\end{array}\n",
    "$\n",
    "\n",
    "$i$: row\n",
    "\n",
    "$j$: coloumn\n",
    "\n",
    "$t_{ij}$ = the probability of moving from state represented by row i to the state represented by row j in a single transition\n",
    "\n",
    "$t_{ij} = P(\\text{next state is the state in comlun }j | \\text{ current state is the state in row }i )$\n",
    "\n",
    "all entries are between 0 and 1 \n",
    "\n",
    "each row adds up to 1 \n",
    "\n",
    "Transistion Matrix represents change over one transition period\n",
    "\n",
    "\n",
    "Suppose when we start obeserving our bike share program, 30% of bikes are in A, 45% are in B, 25% are in C.\n",
    "\n",
    "Initial state vector is:\n",
    "\n",
    "$ V_0 = \\overbrace{ \\begin{bmatrix}  0.30 & 0.45 & 0.25 \\end{bmatrix}}^{\\text{A  B  C}}$\n",
    "\n",
    "\n",
    "\n",
    "$$\n",
    "V_1= V_0T\n",
    "\n",
    "= \\begin{bmatrix}  0.30 & 0.45 & 0.25 \\end{bmatrix} \\begin{bmatrix}  0.3 & 0.5 & 0.2 \\\\ 0.1 & 0.6 & 0.3 \\\\ 0.1 & 0.1 & 0.8 \\end{bmatrix}\n",
    "\n",
    "= \\begin{bmatrix}  .16 & .445 & .395 \\end{bmatrix}\n",
    "$$\n",
    "\n",
    "To get $V_2$\n",
    "\n",
    "\n",
    "we put $V_1$ where we put $V_0$ before\n",
    "\n",
    "$$\n",
    "V_1= V_0T\n",
    "\n",
    "= \\begin{bmatrix}  .16 & .445 & .395 \\end{bmatrix} \\begin{bmatrix}  0.3 & 0.5 & 0.2 \\\\ 0.1 & 0.6 & 0.3 \\\\ 0.1 & 0.1 & 0.8 \\end{bmatrix}\n",
    "\n",
    "= \\begin{bmatrix}  .132 & .3865 & .4815 \\end{bmatrix}\n",
    "$$\n",
    "\n",
    "Notice how $V_1=V_0T, so \\ V_2=V_1T=(V_0T)T=V_0T^2$ ?\n",
    "\n",
    "So we can just do $V_n=V_0T^n$ (Distribution of bicycles after $n$ transitions)"
   ]
  },
  {
   "cell_type": "code",
   "execution_count": null,
   "metadata": {},
   "outputs": [],
   "source": []
  },
  {
   "cell_type": "markdown",
   "metadata": {},
   "source": [
    "---"
   ]
  },
  {
   "cell_type": "markdown",
   "metadata": {},
   "source": [
    "## Linear Algebra"
   ]
  },
  {
   "cell_type": "markdown",
   "metadata": {},
   "source": [
    "---"
   ]
  },
  {
   "cell_type": "markdown",
   "metadata": {},
   "source": [
    "Sympy"
   ]
  },
  {
   "cell_type": "code",
   "execution_count": 19,
   "metadata": {},
   "outputs": [
    {
     "data": {
      "text/latex": [
       "$\\displaystyle x_{2}$"
      ],
      "text/plain": [
       "x_2"
      ]
     },
     "metadata": {},
     "output_type": "display_data"
    }
   ],
   "source": [
    "import sympy as sym\n",
    "myfunc = sym.symbols('x_2')\n",
    "\n",
    "display(myfunc)"
   ]
  },
  {
   "cell_type": "code",
   "execution_count": 18,
   "metadata": {},
   "outputs": [
    {
     "data": {
      "text/latex": [
       "$\\displaystyle 2 x$"
      ],
      "text/plain": [
       "2*x"
      ]
     },
     "metadata": {},
     "output_type": "display_data"
    }
   ],
   "source": [
    "# Derivates\n",
    "x = sym.symbols('x')\n",
    "\n",
    "# Create the function like so\n",
    "f = x**2+2\n",
    "\n",
    "df_dx = sym.diff(f,x) # sym.diff(function, variable, times)\n",
    "\n",
    "display(df_dx)"
   ]
  },
  {
   "cell_type": "code",
   "execution_count": 20,
   "metadata": {},
   "outputs": [
    {
     "name": "stdout",
     "output_type": "stream",
     "text": [
      "x**3/3 + 2*x\n",
      "\n",
      "\n",
      " 3      \n",
      "x       \n",
      "── + 2⋅x\n",
      "3       \n"
     ]
    },
    {
     "data": {
      "text/latex": [
       "$\\displaystyle \\frac{x^{3}}{3} + 2 x$"
      ],
      "text/plain": [
       "x**3/3 + 2*x"
      ]
     },
     "metadata": {},
     "output_type": "display_data"
    }
   ],
   "source": [
    "# indefinate integral\n",
    "F=sym.integrate(f,x)\n",
    "print(F)\n",
    "\n",
    "print(\"\\n\")\n",
    "\n",
    "sym.pprint(F) # Pretty Print, useful when using in the terminal\n",
    "\n",
    "display(F) # To display it nicely in python notebooks"
   ]
  },
  {
   "cell_type": "code",
   "execution_count": 26,
   "metadata": {},
   "outputs": [
    {
     "data": {
      "text/latex": [
       "$\\displaystyle 27$"
      ],
      "text/plain": [
       "27"
      ]
     },
     "metadata": {},
     "output_type": "display_data"
    }
   ],
   "source": [
    "# Definate Integral\n",
    "# sym.integrate(expression, (variable, lower_limit, upper_limit))\n",
    "\n",
    "result=sym.integrate(f,(x,1,4))\n",
    "\n",
    "display(result)"
   ]
  },
  {
   "cell_type": "code",
   "execution_count": 33,
   "metadata": {},
   "outputs": [
    {
     "data": {
      "text/latex": [
       "$\\displaystyle \\frac{1}{x^{2}}$"
      ],
      "text/plain": [
       "x**(-2)"
      ]
     },
     "metadata": {},
     "output_type": "display_data"
    },
    {
     "data": {
      "text/latex": [
       "$\\displaystyle 1$"
      ],
      "text/plain": [
       "1"
      ]
     },
     "metadata": {},
     "output_type": "display_data"
    }
   ],
   "source": [
    "# using infinity\n",
    "from sympy import oo # infinity\n",
    "\n",
    "f = 1 / (x**2)\n",
    "\n",
    "result=sym.integrate(f,(x,1,oo))\n",
    "\n",
    "display(f,result)"
   ]
  },
  {
   "cell_type": "code",
   "execution_count": 39,
   "metadata": {},
   "outputs": [
    {
     "data": {
      "image/png": "[encoded data removed]",
      "text/plain": [
       "<Figure size 640x480 with 1 Axes>"
      ]
     },
     "metadata": {},
     "output_type": "display_data"
    },
    {
     "data": {
      "text/plain": [
       "<sympy.plotting.backends.matplotlibbackend.matplotlib.MatplotlibBackend at 0x7587806fd4c0>"
      ]
     },
     "execution_count": 39,
     "metadata": {},
     "output_type": "execute_result"
    }
   ],
   "source": [
    "# plotting a sympy function\n",
    "f=x**2\n",
    "sym.plot(f,(x,-10,10))"
   ]
  }
 ],
 "metadata": {
  "kernelspec": {
   "display_name": "Python 3",
   "language": "python",
   "name": "python3"
  },
  "language_info": {
   "codemirror_mode": {
    "name": "ipython",
    "version": 3
   },
   "file_extension": ".py",
   "mimetype": "text/x-python",
   "name": "python",
   "nbconvert_exporter": "python",
   "pygments_lexer": "ipython3",
   "version": "3.12.7"
  }
 },
 "nbformat": 4,
 "nbformat_minor": 2
}
